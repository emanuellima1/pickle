{
 "cells": [
  {
   "cell_type": "markdown",
   "metadata": {
    "slideshow": {
     "slide_type": "slide"
    }
   },
   "source": [
    "# Pickle:  Serializando Objetos Python"
   ]
  },
  {
   "cell_type": "markdown",
   "metadata": {
    "slideshow": {
     "slide_type": "slide"
    }
   },
   "source": [
    "## $ whoami  \n",
    "Emanuel Lima  \n",
    "Estagiário no Centro de Computação do IFUSP  "
   ]
  },
  {
   "cell_type": "markdown",
   "metadata": {
    "slideshow": {
     "slide_type": "slide"
    }
   },
   "source": [
    "## O que é Pickling?  \n",
    " * Pickling é o ato de serializar ou deserializar objetos Python  \n",
    " * Serializar é transformar esses objetos em memória em um stream de bites que pode ser salvo em disco ou enviado por uma rede.  \n",
    " * Deserializar é o processo inverso.  \n",
    " * Exemplo: Num jogo simples, você pode salvar o progresso do seu personagem serializando uma instância de uma classe Jogador que contém todas as informações de um estado específico do jogo, como vida, quantidade de moedas, etc. Ao reiniciar o jogo, você deserializa o objeto a partir do arquivo de salvamento e retoma de onde parou.  "
   ]
  },
  {
   "cell_type": "markdown",
   "metadata": {
    "slideshow": {
     "slide_type": "slide"
    }
   },
   "source": [
    "## Usando o Pickle  \n",
    "### Exemplo Simples:  Serializando um Dicionário  "
   ]
  },
  {
   "cell_type": "code",
   "execution_count": 21,
   "metadata": {
    "slideshow": {
     "slide_type": "fragment"
    }
   },
   "outputs": [],
   "source": [
    "import pickle"
   ]
  },
  {
   "cell_type": "code",
   "execution_count": 22,
   "metadata": {
    "slideshow": {
     "slide_type": "fragment"
    }
   },
   "outputs": [],
   "source": [
    "dic = {1: \"A\", 2: \"B\", 3: \"C\", 4: \"D\", 5: \"E\"}\n",
    "with open(\"dicio.pickle\", \"wb\") as pickled_obj:\n",
    "    pickle.dump(dic, pickled_obj)"
   ]
  },
  {
   "cell_type": "code",
   "execution_count": 23,
   "metadata": {
    "slideshow": {
     "slide_type": "fragment"
    }
   },
   "outputs": [
    {
     "name": "stdout",
     "output_type": "stream",
     "text": [
      "dicio.pickle  LICENSE.md  pickle.ipynb\tREADME.md  smaller_file\r\n"
     ]
    }
   ],
   "source": [
    "!ls"
   ]
  },
  {
   "cell_type": "code",
   "execution_count": 24,
   "metadata": {
    "slideshow": {
     "slide_type": "fragment"
    }
   },
   "outputs": [
    {
     "name": "stdout",
     "output_type": "stream",
     "text": [
      "�\u0003}q\u0000(K\u0001X\u0001\u0000\u0000\u0000Aq\u0001K\u0002X\u0001\u0000\u0000\u0000Bq\u0002K\u0003X\u0001\u0000\u0000\u0000Cq\u0003K\u0004X\u0001\u0000\u0000\u0000Dq\u0004K\u0005X\u0001\u0000\u0000\u0000Eq\u0005u."
     ]
    }
   ],
   "source": [
    "!cat dicio.pickle"
   ]
  },
  {
   "cell_type": "markdown",
   "metadata": {
    "slideshow": {
     "slide_type": "slide"
    }
   },
   "source": [
    "### Deserializando um dicionário:  "
   ]
  },
  {
   "cell_type": "code",
   "execution_count": 25,
   "metadata": {
    "slideshow": {
     "slide_type": "fragment"
    }
   },
   "outputs": [
    {
     "name": "stdout",
     "output_type": "stream",
     "text": [
      "{1: 'A', 2: 'B', 3: 'C', 4: 'D', 5: 'E'}\n"
     ]
    }
   ],
   "source": [
    "with open(\"dicio.pickle\", \"rb\") as pickle_off:\n",
    "    dic_from_pickle = pickle.load(pickle_off)\n",
    "print(dic_from_pickle)"
   ]
  },
  {
   "cell_type": "markdown",
   "metadata": {
    "slideshow": {
     "slide_type": "slide"
    }
   },
   "source": [
    "## O que eu posso serializar facilmente?  \n",
    "* Booleanos\n",
    "* Inteiros\n",
    "* Floats\n",
    "* Números Complexos\n",
    "* Strings (Normal e Unicode) \n",
    "* Tuplas\n",
    "* Listas\n",
    "* Sets\n",
    "* Dicionários que contem outros objetos serializáveis\n",
    "* Classes e Funções"
   ]
  },
  {
   "cell_type": "markdown",
   "metadata": {
    "slideshow": {
     "slide_type": "slide"
    }
   },
   "source": [
    "## E não tão facilmente?  \n",
    "* Generators\n",
    "* Funções Lambda "
   ]
  },
  {
   "cell_type": "markdown",
   "metadata": {
    "slideshow": {
     "slide_type": "slide"
    }
   },
   "source": [
    "## Pickle vs JSON:  \n",
    "* JSON é um formato de serialização de texto (ele devolve texto UTF-8, geralmente), enquanto que Pickle é um formato de serialização binário;\n",
    "* JSON é legível por humanos, enquanto que Pickle não é;\n",
    "* JSON é interoperável e muito usado fora do ecossistema Python, enquanto que o Pickle é específico para ambientes Python;\n",
    "* JSON, por default, consegue representar apenas uma parte dos tipos built-in do Python, enquanto que o Pickle consegue serializar um número grande de tipos e classes customizadas. "
   ]
  },
  {
   "cell_type": "markdown",
   "metadata": {
    "slideshow": {
     "slide_type": "slide"
    }
   },
   "source": [
    "## Observações:  \n",
    "* Serialização é uma noção mais \"primitiva\" que persistência. Embora o pickle leia e escreva arquivos, ele não lida bem com questões mais complicadas, como acesso concorrente a objetos persistentes. \n",
    "* O pickle consegue transformar um objeto complexo em um stream de bytes e consegue transformar um stream de bytes em um objeto com a mesma estrutura interna. Daí, o uso mais imediato é salvar objetos em arquivos, mas também é possível enviá-los por uma rede ou guardá-los em um banco de dados.  "
   ]
  },
  {
   "cell_type": "markdown",
   "metadata": {
    "slideshow": {
     "slide_type": "slide"
    }
   },
   "source": [
    "## Algumas Exceptions  \n",
    "* Pickle.PicklingError: Essa exception ocorre quando se tenta usar pickle em objetos não suportados.  \n",
    "* Pickle.UnpicklingError: Essa exception ocorre quando se tenta usar pickle em arquivos corrompidos.  "
   ]
  },
  {
   "cell_type": "markdown",
   "metadata": {
    "slideshow": {
     "slide_type": "slide"
    }
   },
   "source": [
    "## Comprimindo arquivos Pickle:  \n",
    "* Se você estiver serializando objetos muito grandes, pode ser útil comprimi-los.\n",
    "* Mas para objetos muito pequenos você não verá diferença nenhuma.\n",
    "* Vejamos como comprimir usando o módulo bzip2."
   ]
  },
  {
   "cell_type": "code",
   "execution_count": 26,
   "metadata": {
    "slideshow": {
     "slide_type": "fragment"
    }
   },
   "outputs": [],
   "source": [
    "import bz2\n",
    "dic = {1: \"A\", 2: \"B\", 3: \"C\", 4: \"D\", 5: \"E\"}\n",
    "compressed_file = bz2.BZ2File('smaller_file', 'w')\n",
    "pickle.dump(dic, compressed_file)\n",
    "compressed_file.close()"
   ]
  },
  {
   "cell_type": "markdown",
   "metadata": {
    "slideshow": {
     "slide_type": "slide"
    }
   },
   "source": [
    "## Vantagens:  \n",
    "* Ajuda a salvar dados complicados.\n",
    "* Fácil de usar, não precisa de muitas linhas de código.\n",
    "* Dados salvos não são legíveis. Isso proporciona alguma segurança."
   ]
  },
  {
   "cell_type": "markdown",
   "metadata": {
    "slideshow": {
     "slide_type": "fragment"
    }
   },
   "source": [
    "## Desvantagens:  \n",
    "\n",
    "* Outras linguagens não conseguem deserializar arquivos pickle. \n",
    "* Existem riscos de segurança ao deserializar dados de fontes maliciosas.  "
   ]
  },
  {
   "cell_type": "markdown",
   "metadata": {
    "slideshow": {
     "slide_type": "slide"
    }
   },
   "source": [
    "# Perguntas?    \n",
    "  \n",
    "https://emanuellima1.github.io   \n",
    "https://www.linkedin.com/in/emanuellima1/  "
   ]
  }
 ],
 "metadata": {
  "celltoolbar": "Slideshow",
  "kernelspec": {
   "display_name": "Python 3",
   "language": "python",
   "name": "python3"
  },
  "language_info": {
   "codemirror_mode": {
    "name": "ipython",
    "version": 3
   },
   "file_extension": ".py",
   "mimetype": "text/x-python",
   "name": "python",
   "nbconvert_exporter": "python",
   "pygments_lexer": "ipython3",
   "version": "3.6.8"
  }
 },
 "nbformat": 4,
 "nbformat_minor": 2
}
