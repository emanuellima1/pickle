{
 "cells": [
  {
   "cell_type": "markdown",
   "metadata": {
    "slideshow": {
     "slide_type": "slide"
    }
   },
   "source": [
    "# Pickle:  Serializando Objetos Python"
   ]
  },
  {
   "cell_type": "markdown",
   "metadata": {
    "slideshow": {
     "slide_type": "slide"
    }
   },
   "source": [
    "## $ whoami  \n",
    "Emanuel Lima  \n",
    "Graduando em Física - USP  \n",
    "Estagiário no Centro de Computação do IFUSP  "
   ]
  },
  {
   "cell_type": "markdown",
   "metadata": {
    "slideshow": {
     "slide_type": "slide"
    }
   },
   "source": [
    "## O que é Pickling?  \n",
    " * Pickling é o ato de serializar ou deserializar objetos Python.  \n",
    " * Serializar é transformar em um stream de bites esses objetos que podem ser salvos em disco ou enviados por uma rede.  \n",
    " * Deserializar é o processo inverso.  \n",
    " * Exemplo: Num jogo simples, você pode salvar o progresso do seu personagem serializando uma instância de uma classe Jogador que contém todas as informações de um estado específico do jogo, como vida, quantidade de moedas, etc. Ao reiniciar o jogo, você deserializa o objeto a partir do arquivo de salvamento e retoma de onde parou.  "
   ]
  },
  {
   "cell_type": "markdown",
   "metadata": {
    "slideshow": {
     "slide_type": "slide"
    }
   },
   "source": [
    "## Usando o Pickle  \n",
    "### Exemplo Simples:  Serializando para String  "
   ]
  },
  {
   "cell_type": "code",
   "execution_count": null,
   "metadata": {
    "slideshow": {
     "slide_type": "fragment"
    }
   },
   "outputs": [],
   "source": [
    "import pickle"
   ]
  },
  {
   "cell_type": "code",
   "execution_count": null,
   "metadata": {
    "slideshow": {
     "slide_type": "fragment"
    }
   },
   "outputs": [],
   "source": [
    "lista = [\"Maçã\", 42, {'A': 1, 'B': 2}, 3.14]\n",
    "\n",
    "dump = pickle.dumps(lista)\n",
    "print(dump)"
   ]
  },
  {
   "cell_type": "code",
   "execution_count": null,
   "metadata": {
    "slideshow": {
     "slide_type": "fragment"
    }
   },
   "outputs": [],
   "source": [
    "objeto = pickle.loads(dump)\n",
    "print(objeto)"
   ]
  },
  {
   "cell_type": "markdown",
   "metadata": {
    "slideshow": {
     "slide_type": "slide"
    }
   },
   "source": [
    "### Exemplo Simples: Serializando um Dicionário"
   ]
  },
  {
   "cell_type": "code",
   "execution_count": null,
   "metadata": {
    "slideshow": {
     "slide_type": "fragment"
    }
   },
   "outputs": [],
   "source": [
    "dic = {1: \"A\", 2: \"B\", 3: \"C\", 4: \"D\", 5: \"E\"}\n",
    "with open(\"dicio.pickle\", \"wb\") as pickled_obj:\n",
    "    pickle.dump(dic, pickled_obj)"
   ]
  },
  {
   "cell_type": "code",
   "execution_count": null,
   "metadata": {
    "slideshow": {
     "slide_type": "fragment"
    }
   },
   "outputs": [],
   "source": [
    "!ls"
   ]
  },
  {
   "cell_type": "code",
   "execution_count": null,
   "metadata": {
    "slideshow": {
     "slide_type": "fragment"
    }
   },
   "outputs": [],
   "source": [
    "!cat dicio.pickle"
   ]
  },
  {
   "cell_type": "markdown",
   "metadata": {
    "slideshow": {
     "slide_type": "slide"
    }
   },
   "source": [
    "### Deserializando um dicionário:  "
   ]
  },
  {
   "cell_type": "code",
   "execution_count": null,
   "metadata": {
    "slideshow": {
     "slide_type": "fragment"
    }
   },
   "outputs": [],
   "source": [
    "with open(\"dicio.pickle\", \"rb\") as pickle_off:\n",
    "    dic_from_pickle = pickle.load(pickle_off)\n",
    "print(dic_from_pickle)"
   ]
  },
  {
   "cell_type": "markdown",
   "metadata": {
    "slideshow": {
     "slide_type": "slide"
    }
   },
   "source": [
    "## O que eu posso serializar facilmente?  \n",
    "* Booleanos\n",
    "* Inteiros\n",
    "* Floats\n",
    "* Números Complexos\n",
    "* Strings (Normal e Unicode) \n",
    "* Tuplas\n",
    "* Listas\n",
    "* Sets\n",
    "* Dicionários que contem outros objetos serializáveis\n",
    "* Classes e Funções"
   ]
  },
  {
   "cell_type": "markdown",
   "metadata": {
    "slideshow": {
     "slide_type": "slide"
    }
   },
   "source": [
    "## E não tão facilmente?  \n",
    "* Generators\n",
    "* Funções Lambda "
   ]
  },
  {
   "cell_type": "markdown",
   "metadata": {
    "slideshow": {
     "slide_type": "slide"
    }
   },
   "source": [
    "## Serializando suas próprias classes"
   ]
  },
  {
   "cell_type": "code",
   "execution_count": null,
   "metadata": {
    "slideshow": {
     "slide_type": "fragment"
    }
   },
   "outputs": [],
   "source": [
    "class Jogador:\n",
    "    def __init__(self, nome, vida, moedas):\n",
    "        self.nome = nome\n",
    "        self.vida = vida\n",
    "        self.moedas = moedas\n",
    "\n",
    "    def __str__(self):\n",
    "        return f\"Meu nome é {self.nome}, estou com {self.vida} de vida e {self.moedas} de moedas.\""
   ]
  },
  {
   "cell_type": "code",
   "execution_count": null,
   "metadata": {
    "slideshow": {
     "slide_type": "fragment"
    }
   },
   "outputs": [],
   "source": [
    "ezio = Jogador(\"Ezio da Firenze\", 100, 576)\n",
    "kerrigan = Jogador(\"Queen of Blades\", 100, 345)\n",
    "\n",
    "print(ezio)\n",
    "print(kerrigan)"
   ]
  },
  {
   "cell_type": "code",
   "execution_count": null,
   "metadata": {
    "slideshow": {
     "slide_type": "fragment"
    }
   },
   "outputs": [],
   "source": [
    "with open(\"players.pickle\", \"wb\") as players_dump:\n",
    "    pickle.dump(ezio, players_dump)\n",
    "    pickle.dump(kerrigan, players_dump)"
   ]
  },
  {
   "cell_type": "code",
   "execution_count": null,
   "metadata": {
    "slideshow": {
     "slide_type": "fragment"
    }
   },
   "outputs": [],
   "source": [
    "!ls"
   ]
  },
  {
   "cell_type": "code",
   "execution_count": null,
   "metadata": {
    "scrolled": true,
    "slideshow": {
     "slide_type": "fragment"
    }
   },
   "outputs": [],
   "source": [
    "!cat players.pickle"
   ]
  },
  {
   "cell_type": "markdown",
   "metadata": {
    "slideshow": {
     "slide_type": "slide"
    }
   },
   "source": [
    "### Deserializando"
   ]
  },
  {
   "cell_type": "code",
   "execution_count": null,
   "metadata": {
    "slideshow": {
     "slide_type": "fragment"
    }
   },
   "outputs": [],
   "source": [
    "with open(\"players.pickle\", \"rb\") as players_load:\n",
    "    ezio_loaded = pickle.load(players_load)\n",
    "    kerrigan_loaded = pickle.load(players_load)"
   ]
  },
  {
   "cell_type": "code",
   "execution_count": null,
   "metadata": {
    "slideshow": {
     "slide_type": "fragment"
    }
   },
   "outputs": [],
   "source": [
    "print(ezio_loaded)\n",
    "print(kerrigan_loaded)"
   ]
  },
  {
   "cell_type": "markdown",
   "metadata": {
    "slideshow": {
     "slide_type": "slide"
    }
   },
   "source": [
    "## Pickle vs JSON:  \n",
    "* JSON é um formato de serialização de texto, enquanto que Pickle é um formato de serialização binário;\n",
    "* JSON é legível por humanos, enquanto que Pickle não é;\n",
    "* JSON é interoperável e muito usado fora do ecossistema Python, enquanto que o Pickle é específico para ambientes Python;\n",
    "* JSON, por default, consegue representar apenas uma parte dos tipos built-in do Python, enquanto que o Pickle consegue serializar um número grande de tipos e classes customizadas. "
   ]
  },
  {
   "cell_type": "markdown",
   "metadata": {
    "slideshow": {
     "slide_type": "slide"
    }
   },
   "source": [
    "## E se a gente tentasse serializar os jogadores com JSON?"
   ]
  },
  {
   "cell_type": "code",
   "execution_count": null,
   "metadata": {
    "slideshow": {
     "slide_type": "fragment"
    }
   },
   "outputs": [],
   "source": [
    "import json"
   ]
  },
  {
   "cell_type": "code",
   "execution_count": null,
   "metadata": {
    "slideshow": {
     "slide_type": "slide"
    }
   },
   "outputs": [],
   "source": [
    "ezio_json = json.dumps(ezio)"
   ]
  },
  {
   "cell_type": "markdown",
   "metadata": {
    "slideshow": {
     "slide_type": "slide"
    }
   },
   "source": [
    "## Observações:  \n",
    "* Serialização é uma noção mais \"primitiva\" que persistência. Embora o pickle leia e escreva arquivos, ele não lida bem com questões mais complicadas, como acesso concorrente a objetos persistentes. \n",
    "* O pickle consegue transformar um objeto complexo em um stream de bytes e consegue transformar um stream de bytes em um objeto com a mesma estrutura interna. Daí, o uso mais imediato é salvar objetos em arquivos, mas também é possível enviá-los por uma rede ou guardá-los em um banco de dados.  "
   ]
  },
  {
   "cell_type": "markdown",
   "metadata": {
    "slideshow": {
     "slide_type": "slide"
    }
   },
   "source": [
    "## Algumas Exceptions  \n",
    "* Pickle.PicklingError: Essa exception ocorre quando se tenta usar pickle em objetos não suportados.  \n",
    "* Pickle.UnpicklingError: Essa exception ocorre quando se tenta usar pickle em arquivos corrompidos.  "
   ]
  },
  {
   "cell_type": "markdown",
   "metadata": {
    "slideshow": {
     "slide_type": "slide"
    }
   },
   "source": [
    "## Comprimindo arquivos Pickle:  \n",
    "* Se você estiver serializando objetos muito grandes, pode ser útil comprimi-los.\n",
    "* Mas para objetos muito pequenos você não verá diferença nenhuma.\n",
    "* Vejamos como comprimir usando o módulo bzip2."
   ]
  },
  {
   "cell_type": "code",
   "execution_count": null,
   "metadata": {
    "slideshow": {
     "slide_type": "fragment"
    }
   },
   "outputs": [],
   "source": [
    "import bz2\n",
    "dic = {1: \"A\", 2: \"B\", 3: \"C\", 4: \"D\", 5: \"E\"}\n",
    "compressed_file = bz2.BZ2File('smaller_file', 'w')\n",
    "pickle.dump(dic, compressed_file)\n",
    "compressed_file.close()"
   ]
  },
  {
   "cell_type": "markdown",
   "metadata": {
    "slideshow": {
     "slide_type": "slide"
    }
   },
   "source": [
    "## Vantagens:  \n",
    "* Ajuda a salvar dados complicados.\n",
    "* Fácil de usar, não precisa de muitas linhas de código."
   ]
  },
  {
   "cell_type": "markdown",
   "metadata": {
    "slideshow": {
     "slide_type": "fragment"
    }
   },
   "source": [
    "## Desvantagens:  \n",
    "\n",
    "* Outras linguagens podem não conseguir deserializar arquivos pickle. \n",
    "* Existem riscos de segurança ao deserializar dados de fontes maliciosas.  "
   ]
  },
  {
   "cell_type": "markdown",
   "metadata": {
    "slideshow": {
     "slide_type": "slide"
    }
   },
   "source": [
    "## Segurança?  \n",
    "* O Pickle objetiva nos deixar serializar qualquer objeto do Python. A pergunta que fica é: e se nós serializarmos um objeto subprocess.Popen?\n",
    "* Se conseguirmos, conseguiremos executar qualquer comando do shell!\n",
    "* O ponto é que o pickle permite que qualquer objeto declare como ele deve ser serializado usando um método \\_\\_reduce__ que, de modo bem básico, deve retornar uma tupla que contém uma classe e uma outra tupla com argumentos desta classe.\n",
    "* No processo de deserialização, o pickle vai invocar a classe serializada com os argumentos passados!\n",
    "* Vejamos como isso funciona num exemplo bem simples no terminal:  "
   ]
  },
  {
   "cell_type": "markdown",
   "metadata": {
    "slideshow": {
     "slide_type": "slide"
    }
   },
   "source": [
    "### É por isso, crianças, que nunca se deve deserializar pickles de fontes desconhecidas"
   ]
  },
  {
   "cell_type": "markdown",
   "metadata": {
    "slideshow": {
     "slide_type": "slide"
    }
   },
   "source": [
    "# Perguntas?    \n",
    "  \n",
    "https://emanuellima1.github.io   \n",
    "https://github.com/emanuellima1/pickle  \n",
    "https://www.linkedin.com/in/emanuellima1/  "
   ]
  }
 ],
 "metadata": {
  "celltoolbar": "Slideshow",
  "kernelspec": {
   "display_name": "Python 3",
   "language": "python",
   "name": "python3"
  },
  "language_info": {
   "codemirror_mode": {
    "name": "ipython",
    "version": 3
   },
   "file_extension": ".py",
   "mimetype": "text/x-python",
   "name": "python",
   "nbconvert_exporter": "python",
   "pygments_lexer": "ipython3",
   "version": "3.6.8"
  }
 },
 "nbformat": 4,
 "nbformat_minor": 2
}
